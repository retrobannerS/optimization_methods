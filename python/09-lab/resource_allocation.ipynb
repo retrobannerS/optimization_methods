{
 "cells": [
  {
   "cell_type": "code",
   "execution_count": 1,
   "metadata": {},
   "outputs": [],
   "source": [
    "def max_profit_and_allocation(S, N, f):\n",
    "    \"\"\"\n",
    "    Найти максимум дохода и оптимальное распределение ресурсов.\n",
    "\n",
    "    Args:\n",
    "        S (int): Общее количество ресурсов.\n",
    "        N (int): Количество предприятий.\n",
    "        f (list of list): Матрица доходов f_ij.\n",
    "\n",
    "    Returns:\n",
    "        tuple: Максимальный доход, оптимальное распределение ресурсов.\n",
    "    \"\"\"\n",
    "    dp = [[0] * (S + 1) for _ in range(N + 1)]\n",
    "    allocation = [[0] * (S + 1) for _ in range(N + 1)]\n",
    "\n",
    "    for i in range(1, N + 1):\n",
    "        for s in range(S + 1):\n",
    "            for x in range(s + 1):\n",
    "                current_profit = dp[i - 1][s - x] + f[i - 1][x]\n",
    "                if current_profit > dp[i][s]:\n",
    "                    dp[i][s] = current_profit\n",
    "                    allocation[i][s] = x\n",
    "\n",
    "    s = S\n",
    "    distribution = [0] * N\n",
    "    for i in range(N, 0, -1):\n",
    "        distribution[i - 1] = allocation[i][s]\n",
    "        s -= allocation[i][s]\n",
    "\n",
    "    return dp[N][S], distribution"
   ]
  },
  {
   "cell_type": "code",
   "execution_count": 2,
   "metadata": {},
   "outputs": [
    {
     "name": "stdout",
     "output_type": "stream",
     "text": [
      "Максимальный доход: 36\n",
      "Оптимальное распределение ресурсов: [2, 1, 1, 1, 0, 1]\n"
     ]
    }
   ],
   "source": [
    "S = 6\n",
    "N = 6\n",
    "f = [\n",
    "    [0, 3, 8, 6, 9, 9, 7],\n",
    "    [0, 7, 3, 2, 1, 3, 4],\n",
    "    [0, 8, 6, 5, 10, 5, 8],\n",
    "    [0, 5, 5, 1, 3, 3, 5],\n",
    "    [0, 4, 2, 10, 7, 7, 7],\n",
    "    [0, 8, 8, 6, 4, 5, 10],\n",
    "]\n",
    "\n",
    "max_profit, allocation = max_profit_and_allocation(S, N, f)\n",
    "print(\"Максимальный доход:\", max_profit)\n",
    "print(\"Оптимальное распределение ресурсов:\", allocation)"
   ]
  }
 ],
 "metadata": {
  "kernelspec": {
   "display_name": ".venv",
   "language": "python",
   "name": "python3"
  },
  "language_info": {
   "codemirror_mode": {
    "name": "ipython",
    "version": 3
   },
   "file_extension": ".py",
   "mimetype": "text/x-python",
   "name": "python",
   "nbconvert_exporter": "python",
   "pygments_lexer": "ipython3",
   "version": "3.12.7"
  }
 },
 "nbformat": 4,
 "nbformat_minor": 2
}
