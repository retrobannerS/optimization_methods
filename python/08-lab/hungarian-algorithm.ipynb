{
 "cells": [
  {
   "cell_type": "code",
   "execution_count": 1,
   "metadata": {},
   "outputs": [
    {
     "name": "stdout",
     "output_type": "stream",
     "text": [
      "Collecting hungarian-algorithm\n",
      "  Downloading hungarian_algorithm-0.1.11-py3-none-any.whl.metadata (5.7 kB)\n",
      "Downloading hungarian_algorithm-0.1.11-py3-none-any.whl (10 kB)\n",
      "Installing collected packages: hungarian-algorithm\n",
      "Successfully installed hungarian-algorithm-0.1.11\n",
      "\n",
      "\u001b[1m[\u001b[0m\u001b[34;49mnotice\u001b[0m\u001b[1;39;49m]\u001b[0m\u001b[39;49m A new release of pip is available: \u001b[0m\u001b[31;49m24.2\u001b[0m\u001b[39;49m -> \u001b[0m\u001b[32;49m24.3.1\u001b[0m\n",
      "\u001b[1m[\u001b[0m\u001b[34;49mnotice\u001b[0m\u001b[1;39;49m]\u001b[0m\u001b[39;49m To update, run: \u001b[0m\u001b[32;49mpip install --upgrade pip\u001b[0m\n",
      "Note: you may need to restart the kernel to use updated packages.\n"
     ]
    }
   ],
   "source": [
    "%pip install hungarian-algorithm"
   ]
  },
  {
   "cell_type": "code",
   "execution_count": 10,
   "metadata": {},
   "outputs": [],
   "source": [
    "from hungarian_algorithm import algorithm"
   ]
  },
  {
   "cell_type": "code",
   "execution_count": null,
   "metadata": {},
   "outputs": [],
   "source": [
    "G = {\n",
    "    '01': {'1': 4, '2': 4, '3': 5, '4': 2, '5': 6, '6': 4, '7': 4, '8': 5, '9': 4, '10': 4},\n",
    "    '02': {'1': 1, '2': 7, '3': 6, '4': 2, '5': 9, '6': 8, '7': 6, '8': 2, '9': 4, '10': 6},\n",
    "    '03': {'1': 8, '2': 9, '3': 2, '4': 5, '5': 3, '6': 5, '7': 9, '8': 7, '9': 5, '10': 2},\n",
    "    '04': {'1': 9, '2': 5, '3': 4, '4': 2, '5': 5, '6': 2, '7': 3, '8': 1, '9': 7, '10': 6},\n",
    "    '05': {'1': 5, '2': 8, '3': 8, '4': 7, '5': 6, '6': 3, '7': 8, '8': 5, '9': 9, '10': 5},\n",
    "    '06': {'1': 6, '2': 5, '3': 1, '4': 7, '5': 2, '6': 8, '7': 2, '8': 7, '9': 5, '10': 2},\n",
    "    '07': {'1': 8, '2': 4, '3': 9, '4': 2, '5': 3, '6': 3, '7': 4, '8': 7, '9': 3, '10': 3},\n",
    "    '08': {'1': 8, '2': 5, '3': 4, '4': 9, '5': 6, '6': 5, '7': 8, '8': 3, '9': 7, '10': 4},\n",
    "    '09': {'1': 7, '2': 4, '3': 2, '4': 7, '5': 8, '6': 8, '7': 2, '8': 7, '9': 5, '10': 7},\n",
    "    '010': {'1': 3, '2': 7, '3': 6, '4': 7, '5': 5, '6': 5, '7': 7, '8': 5, '9': 8, '10': 9},\n",
    "}"
   ]
  },
  {
   "cell_type": "code",
   "execution_count": 30,
   "metadata": {},
   "outputs": [
    {
     "data": {
      "text/plain": [
       "[(('04', '8'), 1),\n",
       " (('05', '6'), 3),\n",
       " (('010', '5'), 5),\n",
       " (('03', '10'), 2),\n",
       " (('07', '9'), 3),\n",
       " (('01', '4'), 2),\n",
       " (('08', '2'), 5),\n",
       " (('06', '3'), 1),\n",
       " (('02', '1'), 1),\n",
       " (('09', '7'), 2)]"
      ]
     },
     "execution_count": 30,
     "metadata": {},
     "output_type": "execute_result"
    }
   ],
   "source": [
    "algorithm.find_matching(G, matching_type=\"min\", return_type=\"list\")"
   ]
  },
  {
   "cell_type": "code",
   "execution_count": 29,
   "metadata": {},
   "outputs": [
    {
     "data": {
      "text/plain": [
       "25"
      ]
     },
     "execution_count": 29,
     "metadata": {},
     "output_type": "execute_result"
    }
   ],
   "source": [
    "algorithm.find_matching(G, matching_type=\"min\", return_type=\"total\")"
   ]
  }
 ],
 "metadata": {
  "kernelspec": {
   "display_name": ".venv",
   "language": "python",
   "name": "python3"
  },
  "language_info": {
   "codemirror_mode": {
    "name": "ipython",
    "version": 3
   },
   "file_extension": ".py",
   "mimetype": "text/x-python",
   "name": "python",
   "nbconvert_exporter": "python",
   "pygments_lexer": "ipython3",
   "version": "3.12.7"
  }
 },
 "nbformat": 4,
 "nbformat_minor": 2
}
